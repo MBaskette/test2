{
 "cells": [
  {
   "cell_type": "code",
   "execution_count": 1,
   "id": "12220d6a",
   "metadata": {},
   "outputs": [
    {
     "name": "stderr",
     "output_type": "stream",
     "text": [
      "[WDM] - Downloading: 100%|████████████████████████████████████████████████████████| 6.79M/6.79M [00:00<00:00, 42.4MB/s]\n"
     ]
    }
   ],
   "source": [
    "from splinter import Browser\n",
    "from bs4 import BeautifulSoup\n",
    "from webdriver_manager.chrome import ChromeDriverManager\n",
    "\n",
    "executable_path = {'executable_path': ChromeDriverManager().install()}\n",
    "browser = Browser('chrome', **executable_path, headless=False)\n"
   ]
  },
  {
   "cell_type": "code",
   "execution_count": 2,
   "id": "9af640e7",
   "metadata": {},
   "outputs": [],
   "source": [
    "url = \"https://stackoverflow.com/questions/tagged/python?sort=MostVotes&edited=true\"\n",
    "browser.visit(url)\n",
    "html = browser.html\n",
    "soup = BeautifulSoup(html, 'html.parser')\n"
   ]
  },
  {
   "cell_type": "code",
   "execution_count": 3,
   "id": "5fac7f7d",
   "metadata": {},
   "outputs": [],
   "source": [
    "question_divs = soup.find_all('div', class_=\"mln24\")"
   ]
  },
  {
   "cell_type": "code",
   "execution_count": 4,
   "id": "3c3c7594",
   "metadata": {},
   "outputs": [],
   "source": [
    "question_list = []"
   ]
  },
  {
   "cell_type": "code",
   "execution_count": 5,
   "id": "105ca3ad",
   "metadata": {},
   "outputs": [],
   "source": [
    "for question in question_divs:\n",
    "    summary = question.find(\"a\", class_=\"question-hyperlink\").text\n",
    "    votes = question.find(\"span\", class_=\"vote-count-post\").text\n",
    "    excerpt = question.find(\"div\", class_=\"excerpt\").text.strip()\n",
    "    question_dict = {}\n",
    "    question_dict[\"summary\"] = summary\n",
    "    question_dict[\"votes\"] = votes\n",
    "    question_dict[\"excerpt\"] = excerpt\n",
    "    question_list.append(question_dict)\n",
    "\n"
   ]
  },
  {
   "cell_type": "code",
   "execution_count": 6,
   "id": "4084f9da",
   "metadata": {},
   "outputs": [
    {
     "data": {
      "text/plain": [
       "[]"
      ]
     },
     "execution_count": 6,
     "metadata": {},
     "output_type": "execute_result"
    }
   ],
   "source": [
    "question_list"
   ]
  },
  {
   "cell_type": "code",
   "execution_count": 7,
   "id": "d41d445f",
   "metadata": {},
   "outputs": [],
   "source": [
    "question_list = question_list[1:]"
   ]
  },
  {
   "cell_type": "code",
   "execution_count": 8,
   "id": "92b641ee",
   "metadata": {},
   "outputs": [
    {
     "data": {
      "text/plain": [
       "[]"
      ]
     },
     "execution_count": 8,
     "metadata": {},
     "output_type": "execute_result"
    }
   ],
   "source": [
    "question_list"
   ]
  }
 ],
 "metadata": {
  "kernelspec": {
   "display_name": "PythonData",
   "language": "python",
   "name": "pythondata"
  },
  "language_info": {
   "codemirror_mode": {
    "name": "ipython",
    "version": 3
   },
   "file_extension": ".py",
   "mimetype": "text/x-python",
   "name": "python",
   "nbconvert_exporter": "python",
   "pygments_lexer": "ipython3",
   "version": "3.7.15"
  }
 },
 "nbformat": 4,
 "nbformat_minor": 5
}
